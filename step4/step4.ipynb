{
 "cells": [
  {
   "cell_type": "markdown",
   "metadata": {},
   "source": []
  },
  {
   "cell_type": "markdown",
   "metadata": {},
   "source": [
    "# Step 4\n",
    "Se descargan todas las dependencias necesarias para leer los archivos CSV, XLS y hacer la conexión con la base de datos en MySQL"
   ]
  },
  {
   "cell_type": "code",
   "execution_count": null,
   "metadata": {},
   "outputs": [],
   "source": [
    "!pip install pymysql\n",
    "!pip install pandas\n",
    "!pip install openpyxl\n",
    "!pip install numpy"
   ]
  },
  {
   "cell_type": "code",
   "execution_count": null,
   "metadata": {},
   "outputs": [],
   "source": [
    "import csv\n",
    "import pymysql\n",
    "import pandas as pd\n",
    "\n",
    "#se abre el archivo csv de las estaciones\n",
    "with open('../data/stations.csv', newline='') as csvfile:\n",
    "    reader = csv.DictReader(csvfile)\n",
    "    #se inicia la conexion con MySQL\n",
    "    conn = pymysql.connect(host=\"localhost\", port=3306, user=\"root\", passwd=\"\", db=\"weather\")\n",
    "    cur = conn.cursor()\n",
    "    #conforme se va leyendo las lineas del archivo, se van insertando en la base de datos\n",
    "    for row in reader:\n",
    "        sql = \"INSERT INTO `stations` (`station_id`, `name`,`latitude`,`longitude`,`elevation`) VALUES (%s, %s,%s,%s,%s)\"\n",
    "        try:\n",
    "            cur.execute(sql, (row['station_id'],row['name'],row['latitude'],row['longitude'],row['elevation']))\n",
    "            conn.commit()\n",
    "            print(\"registro insertado\")\n",
    "        except:\n",
    "            conn.rollback()\n",
    "            print(\"no hubo registro\")\n",
    "    cur.close()\n",
    "    conn.close()\n"
   ]
  },
  {
   "cell_type": "code",
   "execution_count": null,
   "metadata": {},
   "outputs": [],
   "source": [
    "#se abre el archivo csv de las variables\n",
    "with open('../data/variables.csv', newline='') as csvfile:\n",
    "    reader = csv.DictReader(csvfile)\n",
    "    #se inicia la conexion con MySQL\n",
    "    conn = pymysql.connect(host=\"localhost\", port=3306, user=\"root\", passwd=\"\", db=\"weather\")\n",
    "    cur = conn.cursor()\n",
    "    #conforme se va leyendo las lineas del archivo, se van insertando en la base de datos\n",
    "    for row in reader:\n",
    "        sql = \"INSERT INTO `variables` (`variable_id`, `name`, `description`, `units`) VALUES (%s, %s,%s,%s)\"\n",
    "        try:\n",
    "            cur.execute(sql, (row['variable_id'],row['name'],row['description'],row['units']))\n",
    "            conn.commit()\n",
    "            print(\"registro insertado\")\n",
    "        except:\n",
    "            conn.rollback()\n",
    "            print(\"no hubo registro\")\n",
    "    cur.close()\n",
    "    conn.close()"
   ]
  },
  {
   "cell_type": "markdown",
   "metadata": {},
   "source": [
    "Se importa la librería para conexión con base de datos, luego se llama a los archivos csv para leer e insertar los registros en la base de datos."
   ]
  },
  {
   "cell_type": "code",
   "execution_count": null,
   "metadata": {},
   "outputs": [],
   "source": [
    "import pandas as pd\n",
    "#se definen las direcciones de los archivos\n",
    "station1 =[\"../step3/station1/2019.xlsx\",\"../step3/station1/2020.xlsx\",\"../step3/station1/2021.xlsx\"]\n",
    "station2 =[\"../step3/station2/2019.xlsx\",\"../step3/station2/2020.xlsx\",\"../step3/station2/2021.xlsx\"]\n",
    "station3 =[\"../step3/station3/2019.xlsx\",\"../step3/station3/2020.xlsx\",\"../step3/station3/2021.xlsx\"]\n",
    "station4 =[\"../step3/station4/2019.xlsx\",\"../step3/station4/2020.xlsx\",\"../step3/station4/2021.xlsx\"]\n",
    "station5 =[\"../step3/station5/2019.xlsx\",\"../step3/station5/2020.xlsx\",\"../step3/station5/2021.xlsx\"]\n",
    "\n",
    "def insertar_registros(station,paths):\n",
    "    tam = len(paths)\n",
    "    if tam > 0:\n",
    "        for path in paths:       \n",
    "            #se define el header a partir de la segunda fila, debido a que en la primera está el titulo del documento\n",
    "            df = pd.read_excel(path,header=1)\n",
    "            #data = df.iloc[1::1]\n",
    "            column_date = df.columns[0]\n",
    "            #column_grades=df.columns[1]\n",
    "            print(column_date)\n",
    "            #print(column_grades)\n",
    "            print(\"-\" * len(column_date))\n",
    "            for index, row in df.iterrows():\n",
    "                print(row[column_date])\n",
    "            #print(data)\n",
    "            #print(df)\n",
    "    else:\n",
    "        print(\"tu arreglo está vacio\")\n",
    "\n",
    "insertar_registros(1,station1)\n",
    "#insertar_registros(2,station2)\n",
    "#insertar_registros(3,station3)\n",
    "#insertar_registros(4,station4)\n",
    "#insertar_registros(5,station5)"
   ]
  },
  {
   "cell_type": "markdown",
   "metadata": {},
   "source": []
  }
 ],
 "metadata": {
  "kernelspec": {
   "display_name": "Python 3.10.2 64-bit",
   "language": "python",
   "name": "python3"
  },
  "language_info": {
   "codemirror_mode": {
    "name": "ipython",
    "version": 3
   },
   "file_extension": ".py",
   "mimetype": "text/x-python",
   "name": "python",
   "nbconvert_exporter": "python",
   "pygments_lexer": "ipython3",
   "version": "3.10.2"
  },
  "orig_nbformat": 4,
  "vscode": {
   "interpreter": {
    "hash": "0b2db6ef3fb272424a50aaee9e5e8a93744fc8cbc5491064c8fffc3fa4a0316f"
   }
  }
 },
 "nbformat": 4,
 "nbformat_minor": 2
}
